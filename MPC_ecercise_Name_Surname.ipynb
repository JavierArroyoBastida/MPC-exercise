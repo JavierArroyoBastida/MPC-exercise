{
 "cells": [
  {
   "cell_type": "markdown",
   "metadata": {},
   "source": [
    "# <center> MPC Exercise Session </center>\n",
    "\n",
    "## Introduction\n",
    "\n",
    "Welcome to the MPC exercise session!! this notebook is going to guide you through concepts about efficient control of thermal systems in buildings. The goal is to achieve energy savings by controlling the heating, ventilation and air conditioning systems in an intelligent manner, taking into account weather forecast and a model of the building. For that we will be using model predictive control (MPC) which is a very handy concept broadly used in industry for optimizing all kind of processes. Anything you learn here you will be able to extrapolate to many other applications. By the end of this tutorial you should: \n",
    "\n",
    "1. Be familiar with the basics of MPC and receiding horizon.\n",
    "2. Understand why predictive controllers like MPC achieve energy savings when compared to traditional reactive controllers.\n",
    "3. Be able to identify a thermal model of a building by yourself. \n",
    "4. Use the identified model to \n",
    "\n",
    "Ready? just fasten your seatbelts and enjoy the ride.\n",
    "\n",
    "The first thing you'd like to do is make a copy of this file and rename it with your own name and surname. For that, at the top-left click \"File\", and then \"Make a copy\".\n",
    "\n",
    "<img src=\"fig/make-a-copy.PNG\" style=\"width: 300px;\">\n",
    "\n",
    "This will redirect you to your new notebook copy. Please rename it keeping the format of the original title, and using your actual name and surname. During the exercise, you will be filling some gaps of the notebook. Please send a copy of your exercise to javier.arroyo@kuleuven.be. To save a local copy, go to \"File\" -> \"Download as\" -> \"Notebook\". It is recommended to save a local copy of the notebook from time to time to don't loose your changes if the internet connection is lost.\n",
    "\n",
    "\n",
    "## Basic conceps of MPC\n",
    "\n",
    "https://www.mathworks.com/videos/understanding-model-predictive-control-part-2-what-is-mpc--1528106359076.html \n",
    "\n"
   ]
  },
  {
   "cell_type": "markdown",
   "metadata": {},
   "source": [
    "## Development of a classical reactive controller"
   ]
  },
  {
   "cell_type": "markdown",
   "metadata": {},
   "source": [
    "## Development of a controller model"
   ]
  },
  {
   "cell_type": "markdown",
   "metadata": {},
   "source": [
    "## Development of an MPC"
   ]
  },
  {
   "cell_type": "code",
   "execution_count": null,
   "metadata": {},
   "outputs": [],
   "source": [
    "# Import and run the CSTR example using CasADi and plot results\n",
    "from pyjmi.examples import cstr_casadi\n",
    "cstr_casadi.run_demo()"
   ]
  }
 ],
 "metadata": {
  "kernelspec": {
   "display_name": "Python 2",
   "language": "python",
   "name": "python2"
  },
  "language_info": {
   "codemirror_mode": {
    "name": "ipython",
    "version": 2
   },
   "file_extension": ".py",
   "mimetype": "text/x-python",
   "name": "python",
   "nbconvert_exporter": "python",
   "pygments_lexer": "ipython2",
   "version": "2.7.12"
  }
 },
 "nbformat": 4,
 "nbformat_minor": 2
}
