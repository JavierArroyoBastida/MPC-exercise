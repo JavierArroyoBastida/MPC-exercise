{
 "cells": [
  {
   "cell_type": "markdown",
   "metadata": {},
   "source": [
    "# <center> MPC Exercise Session </center>\n",
    "\n",
    "## Introduction\n",
    "\n",
    "Welcome to the MPC exercise session!! this notebook is going to guide you through concepts about efficient control of thermal systems in buildings. The goal is to achieve energy savings by controlling the heating, ventilation and air conditioning systems in an intelligent manner, taking into account weather forecast and a model of the building. For that we will be using model predictive control (MPC) which is a very handy concept broadly used in industry for optimizing all kind of processes. Anything you learn here you will be able to extrapolate to many other applications. By the end of this tutorial you should: \n",
    "\n",
    "1. Be familiar with the basics of MPC and receiding horizon.\n",
    "2. Understand why predictive controllers like MPC achieve energy savings when compared to traditional reactive controllers.\n",
    "3. Be able to identify a thermal model of a building by yourself. \n",
    "4. Use the identified model to \n",
    "\n",
    "Ready? just fasten your seatbelts and enjoy the ride.\n",
    "\n",
    "The first thing you'd like to do is make a copy of this file and rename it with your own name and surname. For that, at the top-left click \"File\", and then \"Make a copy\".\n",
    "\n",
    "<img src=\"fig/make-a-copy.PNG\" style=\"width: 300px;\">\n",
    "\n",
    "This will redirect you to your new notebook copy. Please rename it keeping the format of the original title, and using your actual name and surname. During the exercise, you will be filling some gaps of the notebook. Please send a copy of your exercise to javier.arroyo@kuleuven.be. To save a local copy, go to \"File\" -> \"Download as\" -> \"Notebook\". It is recommended to save a local copy of the notebook from time to time to don't loose your changes if the internet connection is lost.\n",
    "\n",
    "\n",
    "## Basic conceps of MPC\n",
    "\n",
    "https://www.mathworks.com/videos/understanding-model-predictive-control-part-2-what-is-mpc--1528106359076.html \n",
    "\n"
   ]
  },
  {
   "cell_type": "markdown",
   "metadata": {},
   "source": [
    "## Loading the building emulator model"
   ]
  },
  {
   "cell_type": "code",
   "execution_count": 1,
   "metadata": {},
   "outputs": [
    {
     "name": "stderr",
     "output_type": "stream",
     "text": [
      "WARNING:root:The attribute 'enable_logging' is deprecated. Please use 'log_level' instead. Setting 'log_level' to INFO...\n",
      "WARNING:root:The attribute 'enable_logging' is deprecated. Please use 'log_level' instead. Setting 'log_level' to INFO...\n"
     ]
    },
    {
     "data": {
      "text/plain": [
       "<testcase.TestCase at 0x7f59ccd89450>"
      ]
     },
     "execution_count": 1,
     "metadata": {},
     "output_type": "execute_result"
    }
   ],
   "source": [
    "%matplotlib inline\n",
    "from testcase import TestCase\n",
    "import os\n",
    "os.chdir('BOPTEST/testcase1')\n",
    "case = TestCase()\n",
    "case"
   ]
  },
  {
   "cell_type": "markdown",
   "metadata": {},
   "source": [
    "Inspect the inputs to the emulator model"
   ]
  },
  {
   "cell_type": "code",
   "execution_count": 6,
   "metadata": {},
   "outputs": [
    {
     "data": {
      "text/plain": [
       "{'oveTSetRooCoo_activate': {'Description': 'Activation for Cooling setpoint',\n",
       "  'Maximum': None,\n",
       "  'Minimum': None,\n",
       "  'Unit': None},\n",
       " 'oveTSetRooCoo_u': {'Description': 'Cooling setpoint',\n",
       "  'Maximum': 308.15,\n",
       "  'Minimum': 283.15,\n",
       "  'Unit': 'K'},\n",
       " 'oveTSetRooHea_activate': {'Description': 'Activation for Heating setpoint',\n",
       "  'Maximum': None,\n",
       "  'Minimum': None,\n",
       "  'Unit': None},\n",
       " 'oveTSetRooHea_u': {'Description': 'Heating setpoint',\n",
       "  'Maximum': 308.15,\n",
       "  'Minimum': 283.15,\n",
       "  'Unit': 'K'}}"
      ]
     },
     "execution_count": 6,
     "metadata": {},
     "output_type": "execute_result"
    }
   ],
   "source": [
    "case.inputs_metadata"
   ]
  },
  {
   "cell_type": "markdown",
   "metadata": {},
   "source": [
    "Inspect outputs of the emulator model"
   ]
  },
  {
   "cell_type": "code",
   "execution_count": 7,
   "metadata": {},
   "outputs": [
    {
     "data": {
      "text/plain": [
       "{'PCoo_y': {'Description': 'Cooling electrical power',\n",
       "  'Maximum': None,\n",
       "  'Minimum': None,\n",
       "  'Unit': 'W'},\n",
       " 'PFan_y': {'Description': 'Fan electrical power',\n",
       "  'Maximum': None,\n",
       "  'Minimum': None,\n",
       "  'Unit': 'W'},\n",
       " 'PHea_y': {'Description': 'Heater power',\n",
       "  'Maximum': None,\n",
       "  'Minimum': None,\n",
       "  'Unit': 'W'},\n",
       " 'PPum_y': {'Description': 'Pump electrical power',\n",
       "  'Maximum': None,\n",
       "  'Minimum': None,\n",
       "  'Unit': 'W'},\n",
       " 'TRooAir_y': {'Description': 'Room air temperature',\n",
       "  'Maximum': None,\n",
       "  'Minimum': None,\n",
       "  'Unit': 'K'},\n",
       " 'senTSetRooCoo_y': {'Description': 'Room cooling setpoint',\n",
       "  'Maximum': None,\n",
       "  'Minimum': None,\n",
       "  'Unit': 'K'},\n",
       " 'senTSetRooHea_y': {'Description': 'Room heating setpoint',\n",
       "  'Maximum': None,\n",
       "  'Minimum': None,\n",
       "  'Unit': 'K'}}"
      ]
     },
     "execution_count": 7,
     "metadata": {},
     "output_type": "execute_result"
    }
   ],
   "source": [
    "case.outputs_metadata"
   ]
  },
  {
   "cell_type": "markdown",
   "metadata": {},
   "source": [
    "## Development of a classical reactive controller"
   ]
  },
  {
   "cell_type": "markdown",
   "metadata": {},
   "source": [
    "Define first the controller parameters"
   ]
  },
  {
   "cell_type": "code",
   "execution_count": 4,
   "metadata": {},
   "outputs": [],
   "source": [
    "length = 48*3600\n",
    "step   = 3600\n",
    "\n",
    "LowerSetp = 273.15+20\n",
    "UpperSetp = 273.15+23\n",
    "k_p = 2000"
   ]
  },
  {
   "cell_type": "markdown",
   "metadata": {},
   "source": [
    "Initialize the inputs for the first time-step"
   ]
  },
  {
   "cell_type": "code",
   "execution_count": 3,
   "metadata": {},
   "outputs": [],
   "source": [
    "u = {'oveAct_u':0,\n",
    "     'oveAct_activate': 1}"
   ]
  },
  {
   "cell_type": "markdown",
   "metadata": {},
   "source": [
    "Go through the main loop for two days of co-simulation"
   ]
  },
  {
   "cell_type": "code",
   "execution_count": 5,
   "metadata": {},
   "outputs": [
    {
     "ename": "FMUException",
     "evalue": "The variable oveAct_activate could not be found.",
     "output_type": "error",
     "traceback": [
      "\u001b[0;31m\u001b[0m",
      "\u001b[0;31mFMUException\u001b[0mTraceback (most recent call last)",
      "\u001b[0;32m<ipython-input-5-a2b417a8045d>\u001b[0m in \u001b[0;36m<module>\u001b[0;34m()\u001b[0m\n\u001b[1;32m      1\u001b[0m \u001b[0;32mfor\u001b[0m \u001b[0mi\u001b[0m \u001b[0;32min\u001b[0m \u001b[0mrange\u001b[0m\u001b[0;34m(\u001b[0m\u001b[0mint\u001b[0m\u001b[0;34m(\u001b[0m\u001b[0mlength\u001b[0m\u001b[0;34m/\u001b[0m\u001b[0mstep\u001b[0m\u001b[0;34m)\u001b[0m\u001b[0;34m)\u001b[0m\u001b[0;34m:\u001b[0m\u001b[0;34m\u001b[0m\u001b[0m\n\u001b[1;32m      2\u001b[0m     \u001b[0;31m# Advance simulation\u001b[0m\u001b[0;34m\u001b[0m\u001b[0;34m\u001b[0m\u001b[0m\n\u001b[0;32m----> 3\u001b[0;31m     \u001b[0my\u001b[0m \u001b[0;34m=\u001b[0m \u001b[0mcase\u001b[0m\u001b[0;34m.\u001b[0m\u001b[0madvance\u001b[0m\u001b[0;34m(\u001b[0m\u001b[0mu\u001b[0m\u001b[0;34m)\u001b[0m\u001b[0;34m\u001b[0m\u001b[0m\n\u001b[0m\u001b[1;32m      4\u001b[0m \u001b[0;34m\u001b[0m\u001b[0m\n\u001b[1;32m      5\u001b[0m     \u001b[0;31m# Compute next control signal\u001b[0m\u001b[0;34m\u001b[0m\u001b[0;34m\u001b[0m\u001b[0m\n",
      "\u001b[0;32m/home/developer/BOPTEST/testcase.pyc\u001b[0m in \u001b[0;36madvance\u001b[0;34m(self, u)\u001b[0m\n\u001b[1;32m    133\u001b[0m                                 \u001b[0mfinal_time\u001b[0m\u001b[0;34m=\u001b[0m\u001b[0mself\u001b[0m\u001b[0;34m.\u001b[0m\u001b[0mfinal_time\u001b[0m\u001b[0;34m,\u001b[0m\u001b[0;34m\u001b[0m\u001b[0m\n\u001b[1;32m    134\u001b[0m                                 \u001b[0moptions\u001b[0m\u001b[0;34m=\u001b[0m\u001b[0mself\u001b[0m\u001b[0;34m.\u001b[0m\u001b[0moptions\u001b[0m\u001b[0;34m,\u001b[0m\u001b[0;34m\u001b[0m\u001b[0m\n\u001b[0;32m--> 135\u001b[0;31m                                 input=input_object)\n\u001b[0m\u001b[1;32m    136\u001b[0m         \u001b[0;31m# Get result and store measurement\u001b[0m\u001b[0;34m\u001b[0m\u001b[0;34m\u001b[0m\u001b[0m\n\u001b[1;32m    137\u001b[0m         \u001b[0;32mfor\u001b[0m \u001b[0mkey\u001b[0m \u001b[0;32min\u001b[0m \u001b[0mself\u001b[0m\u001b[0;34m.\u001b[0m\u001b[0my\u001b[0m\u001b[0;34m.\u001b[0m\u001b[0mkeys\u001b[0m\u001b[0;34m(\u001b[0m\u001b[0;34m)\u001b[0m\u001b[0;34m:\u001b[0m\u001b[0;34m\u001b[0m\u001b[0m\n",
      "\u001b[0;32msrc/pyfmi/fmi.pyx\u001b[0m in \u001b[0;36mpyfmi.fmi.FMUModelME2.simulate (src/pyfmi/fmi.c:79677)\u001b[0;34m()\u001b[0m\n",
      "\u001b[0;32msrc/pyfmi/fmi.pyx\u001b[0m in \u001b[0;36mpyfmi.fmi.ModelBase._exec_simulate_algorithm (src/pyfmi/fmi.c:5949)\u001b[0;34m()\u001b[0m\n",
      "\u001b[0;32msrc/pyfmi/fmi.pyx\u001b[0m in \u001b[0;36mpyfmi.fmi.ModelBase._exec_simulate_algorithm (src/pyfmi/fmi.c:5840)\u001b[0;34m()\u001b[0m\n",
      "\u001b[0;32m/usr/local/JModelica/Python/pyfmi/fmi_algorithm_drivers.py\u001b[0m in \u001b[0;36m__init__\u001b[0;34m(self, start_time, final_time, input, model, options)\u001b[0m\n\u001b[1;32m    276\u001b[0m                 \u001b[0;32mraise\u001b[0m \u001b[0mfmi\u001b[0m\u001b[0;34m.\u001b[0m\u001b[0mFMUException\u001b[0m\u001b[0;34m(\u001b[0m\u001b[0;34m\"The number of input variables is not equal to the number of input values, please verify the input object.\"\u001b[0m\u001b[0;34m)\u001b[0m\u001b[0;34m\u001b[0m\u001b[0m\n\u001b[1;32m    277\u001b[0m \u001b[0;34m\u001b[0m\u001b[0m\n\u001b[0;32m--> 278\u001b[0;31m             \u001b[0mself\u001b[0m\u001b[0;34m.\u001b[0m\u001b[0mmodel\u001b[0m\u001b[0;34m.\u001b[0m\u001b[0mset\u001b[0m\u001b[0;34m(\u001b[0m\u001b[0minput_names\u001b[0m\u001b[0;34m,\u001b[0m \u001b[0minput_values\u001b[0m\u001b[0;34m)\u001b[0m\u001b[0;34m\u001b[0m\u001b[0m\n\u001b[0m\u001b[1;32m    279\u001b[0m \u001b[0;34m\u001b[0m\u001b[0m\n\u001b[1;32m    280\u001b[0m         \u001b[0;32mif\u001b[0m \u001b[0mself\u001b[0m\u001b[0;34m.\u001b[0m\u001b[0moptions\u001b[0m\u001b[0;34m[\u001b[0m\u001b[0;34m\"result_handling\"\u001b[0m\u001b[0;34m]\u001b[0m \u001b[0;34m==\u001b[0m \u001b[0;34m\"file\"\u001b[0m\u001b[0;34m:\u001b[0m\u001b[0;34m\u001b[0m\u001b[0m\n",
      "\u001b[0;32msrc/pyfmi/fmi.pyx\u001b[0m in \u001b[0;36mpyfmi.fmi.ModelBase.set (src/pyfmi/fmi.c:4675)\u001b[0;34m()\u001b[0m\n",
      "\u001b[0;32msrc/pyfmi/fmi.pyx\u001b[0m in \u001b[0;36mpyfmi.fmi.FMUModelBase2._set (src/pyfmi/fmi.c:45206)\u001b[0;34m()\u001b[0m\n",
      "\u001b[0;32msrc/pyfmi/fmi.pyx\u001b[0m in \u001b[0;36mpyfmi.fmi.FMUModelBase2.get_variable_valueref (src/pyfmi/fmi.c:53151)\u001b[0;34m()\u001b[0m\n",
      "\u001b[0;31mFMUException\u001b[0m: The variable oveAct_activate could not be found."
     ]
    }
   ],
   "source": [
    "for i in range(int(length/step)):\n",
    "    # Advance simulation\n",
    "    y = case.advance(u)\n",
    "    \n",
    "    # Compute next control signal\n",
    "    if y['TRooAir_y']<LowerSetp:\n",
    "        e = LowerSetp - y['TRooAir_y']\n",
    "    elif y['TRooAir_y']>UpperSetp:\n",
    "        e = UpperSetp - y['TRooAir_y']\n",
    "    else:\n",
    "        e = 0\n",
    "        \n",
    "    value = k_p*e\n",
    "    u = {'oveAct_u':value,\n",
    "         'oveAct_activate': 1}"
   ]
  },
  {
   "cell_type": "markdown",
   "metadata": {},
   "source": [
    "Compute the key performance indicators for the implemented controller"
   ]
  },
  {
   "cell_type": "code",
   "execution_count": null,
   "metadata": {},
   "outputs": [],
   "source": [
    "case.get_kpis()"
   ]
  },
  {
   "cell_type": "code",
   "execution_count": null,
   "metadata": {},
   "outputs": [],
   "source": []
  },
  {
   "cell_type": "markdown",
   "metadata": {},
   "source": [
    "## Development of a controller model"
   ]
  },
  {
   "cell_type": "markdown",
   "metadata": {},
   "source": [
    "## Development of an MPC"
   ]
  },
  {
   "cell_type": "markdown",
   "metadata": {},
   "source": [
    "## JModelica test"
   ]
  },
  {
   "cell_type": "code",
   "execution_count": null,
   "metadata": {},
   "outputs": [],
   "source": [
    "# Import and run the CSTR example using CasADi and plot results\n",
    "from pyjmi.examples import cstr_casadi\n",
    "cstr_casadi.run_demo()"
   ]
  }
 ],
 "metadata": {
  "kernelspec": {
   "display_name": "Python 2",
   "language": "python",
   "name": "python2"
  },
  "language_info": {
   "codemirror_mode": {
    "name": "ipython",
    "version": 2
   },
   "file_extension": ".py",
   "mimetype": "text/x-python",
   "name": "python",
   "nbconvert_exporter": "python",
   "pygments_lexer": "ipython2",
   "version": "2.7.12"
  }
 },
 "nbformat": 4,
 "nbformat_minor": 2
}
